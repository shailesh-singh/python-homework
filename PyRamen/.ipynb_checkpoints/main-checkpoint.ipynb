{
 "cells": [
  {
   "cell_type": "code",
   "execution_count": 15,
   "metadata": {},
   "outputs": [],
   "source": [
    "import pandas as pd\n",
    "import csv\n",
    "import json"
   ]
  },
  {
   "cell_type": "code",
   "execution_count": 8,
   "metadata": {},
   "outputs": [],
   "source": [
    "menu = {}\n",
    "with open(\"menu_data.csv\",encoding='utf-8') as f:\n",
    "    lines = csv.DictReader(f)\n",
    "    for line in lines:\n",
    "        line = dict(line)\n",
    "        menu[line['item']] = line\n"
   ]
  },
  {
   "cell_type": "code",
   "execution_count": 10,
   "metadata": {},
   "outputs": [],
   "source": [
    "sales_agg = {}\n",
    "with open('sales_data.csv', encoding='utf-8') as f:\n",
    "    csv_reader = csv.DictReader(f)\n",
    "    for line in csv_reader:\n",
    "        if line['Menu_Item'] in sales_agg.keys():\n",
    "            if  'Quantity' in sales_agg[line['Menu_Item']].keys():\n",
    "                sales_agg[line['Menu_Item']]['Quantity'] += 1\n",
    "            else:\n",
    "                sales_agg[line['Menu_Item']]['Quantity'] =1\n",
    "        else:\n",
    "            sales_agg[line['Menu_Item']] = {}\n",
    "            if  'Quantity' in sales_agg[line['Menu_Item']].keys():\n",
    "                sales_agg[line['Menu_Item']]['Quantity'] += 1\n",
    "            else:\n",
    "                sales_agg[line['Menu_Item']]['Quantity'] =1\n",
    "        \n",
    "        sales_agg[line['Menu_Item']]['item'] = menu[line['Menu_Item']] \n"
   ]
  },
  {
   "cell_type": "code",
   "execution_count": 12,
   "metadata": {},
   "outputs": [
    {
     "name": "stdout",
     "output_type": "stream",
     "text": [
      "spicy miso ramen {'01-count': 6802.0, '02-revenue': 6814.0, '03-cogs': 6807.0, '04-profi': 7.0}\n",
      "tori paitan ramen {'01-count': 6818.0, '02-revenue': 6831.0, '03-cogs': 6824.0, '04-profi': 7.0}\n",
      "truffle butter ramen {'01-count': 6726.0, '02-revenue': 6740.0, '03-cogs': 6733.0, '04-profi': 7.0}\n",
      "tonkotsu ramen {'01-count': 6800.0, '02-revenue': 6813.0, '03-cogs': 6806.0, '04-profi': 7.0}\n",
      "vegetarian spicy miso {'01-count': 6822.0, '02-revenue': 6834.0, '03-cogs': 6827.0, '04-profi': 7.0}\n",
      "shio ramen {'01-count': 6744.0, '02-revenue': 6755.0, '03-cogs': 6749.0, '04-profi': 6.0}\n",
      "miso crab ramen {'01-count': 6554.0, '02-revenue': 6566.0, '03-cogs': 6560.0, '04-profi': 6.0}\n",
      "nagomi shoyu {'01-count': 6660.0, '02-revenue': 6671.0, '03-cogs': 6665.0, '04-profi': 6.0}\n",
      "soft-shell miso crab ramen {'01-count': 6742.0, '02-revenue': 6756.0, '03-cogs': 6749.0, '04-profi': 7.0}\n",
      "burnt garlic tonkotsu ramen {'01-count': 6770.0, '02-revenue': 6784.0, '03-cogs': 6776.0, '04-profi': 8.0}\n",
      "vegetarian curry + king trumpet mushroom ramen {'01-count': 6686.0, '02-revenue': 6699.0, '03-cogs': 6693.0, '04-profi': 6.0}\n"
     ]
    }
   ],
   "source": [
    "for i in sales_agg:\n",
    "    result = {}\n",
    "    result[\"01-count\"] =float(sales_agg[i]['Quantity'])\n",
    "    result['02-revenue']=float(sales_agg[i]['item']['price'])+float(sales_agg[i]['Quantity'])\n",
    "    result['03-cogs'] = float(sales_agg[i]['item']['cost'])+float(sales_agg[i]['Quantity'])\n",
    "    result['04-profi'] =  result['02-revenue'] - result['03-cogs']\n",
    "    print(i, result)\n",
    "    \n"
   ]
  },
  {
   "cell_type": "code",
   "execution_count": 18,
   "metadata": {},
   "outputs": [],
   "source": [
    "#write to file\n",
    "with open(\"PyRamem.txt\", mode='w') as f:\n",
    "    for i in sales_agg:\n",
    "        result = {}\n",
    "        result[\"01-count\"] =float(sales_agg[i]['Quantity'])\n",
    "        result['02-revenue']=float(sales_agg[i]['item']['price'])+float(sales_agg[i]['Quantity'])\n",
    "        result['03-cogs'] = float(sales_agg[i]['item']['cost'])+float(sales_agg[i]['Quantity'])\n",
    "        result['04-profi'] =  result['02-revenue'] - result['03-cogs']\n",
    "        f.write(f\"{i} {result}\\n\")\n"
   ]
  },
  {
   "cell_type": "code",
   "execution_count": null,
   "metadata": {},
   "outputs": [],
   "source": []
  }
 ],
 "metadata": {
  "kernelspec": {
   "display_name": "Python 3",
   "language": "python",
   "name": "python3"
  },
  "language_info": {
   "codemirror_mode": {
    "name": "ipython",
    "version": 3
   },
   "file_extension": ".py",
   "mimetype": "text/x-python",
   "name": "python",
   "nbconvert_exporter": "python",
   "pygments_lexer": "ipython3",
   "version": "3.7.3"
  }
 },
 "nbformat": 4,
 "nbformat_minor": 4
}
