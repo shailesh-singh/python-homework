{
 "cells": [
  {
   "cell_type": "code",
   "execution_count": 1,
   "metadata": {},
   "outputs": [],
   "source": [
    "import pandas as pd\n",
    "import numpy as np"
   ]
  },
  {
   "cell_type": "code",
   "execution_count": 3,
   "metadata": {},
   "outputs": [],
   "source": [
    "df = pd.read_csv('budget_data.csv', index_col=False)\n",
    "df[['Month','Year']]=df['Date'].str.split('-',expand=True)"
   ]
  },
  {
   "cell_type": "code",
   "execution_count": 4,
   "metadata": {},
   "outputs": [
    {
     "data": {
      "text/plain": [
       "Date             object\n",
       "Profit/Losses     int64\n",
       "Month            object\n",
       "Year             object\n",
       "dtype: object"
      ]
     },
     "execution_count": 4,
     "metadata": {},
     "output_type": "execute_result"
    }
   ],
   "source": [
    "df.dtypes"
   ]
  },
  {
   "cell_type": "code",
   "execution_count": 5,
   "metadata": {},
   "outputs": [
    {
     "data": {
      "text/html": [
       "<div>\n",
       "<style scoped>\n",
       "    .dataframe tbody tr th:only-of-type {\n",
       "        vertical-align: middle;\n",
       "    }\n",
       "\n",
       "    .dataframe tbody tr th {\n",
       "        vertical-align: top;\n",
       "    }\n",
       "\n",
       "    .dataframe thead th {\n",
       "        text-align: right;\n",
       "    }\n",
       "</style>\n",
       "<table border=\"1\" class=\"dataframe\">\n",
       "  <thead>\n",
       "    <tr style=\"text-align: right;\">\n",
       "      <th></th>\n",
       "      <th>Date</th>\n",
       "      <th>Profit/Losses</th>\n",
       "      <th>Month</th>\n",
       "      <th>Year</th>\n",
       "    </tr>\n",
       "  </thead>\n",
       "  <tbody>\n",
       "    <tr>\n",
       "      <th>0</th>\n",
       "      <td>Jan-2010</td>\n",
       "      <td>867884</td>\n",
       "      <td>Jan</td>\n",
       "      <td>2010</td>\n",
       "    </tr>\n",
       "    <tr>\n",
       "      <th>1</th>\n",
       "      <td>Feb-2010</td>\n",
       "      <td>984655</td>\n",
       "      <td>Feb</td>\n",
       "      <td>2010</td>\n",
       "    </tr>\n",
       "    <tr>\n",
       "      <th>2</th>\n",
       "      <td>Mar-2010</td>\n",
       "      <td>322013</td>\n",
       "      <td>Mar</td>\n",
       "      <td>2010</td>\n",
       "    </tr>\n",
       "    <tr>\n",
       "      <th>3</th>\n",
       "      <td>Apr-2010</td>\n",
       "      <td>-69417</td>\n",
       "      <td>Apr</td>\n",
       "      <td>2010</td>\n",
       "    </tr>\n",
       "    <tr>\n",
       "      <th>4</th>\n",
       "      <td>May-2010</td>\n",
       "      <td>310503</td>\n",
       "      <td>May</td>\n",
       "      <td>2010</td>\n",
       "    </tr>\n",
       "  </tbody>\n",
       "</table>\n",
       "</div>"
      ],
      "text/plain": [
       "       Date  Profit/Losses Month  Year\n",
       "0  Jan-2010         867884   Jan  2010\n",
       "1  Feb-2010         984655   Feb  2010\n",
       "2  Mar-2010         322013   Mar  2010\n",
       "3  Apr-2010         -69417   Apr  2010\n",
       "4  May-2010         310503   May  2010"
      ]
     },
     "execution_count": 5,
     "metadata": {},
     "output_type": "execute_result"
    }
   ],
   "source": [
    "df.head()"
   ]
  },
  {
   "cell_type": "code",
   "execution_count": 6,
   "metadata": {},
   "outputs": [],
   "source": [
    "total_months = df['Month'].count()\n",
    "total_pl = df['Profit/Losses'].sum()\n",
    "avg_change = pd.DataFrame(df['Profit/Losses']-df['Profit/Losses'].shift(1)).mean().to_dict()\n",
    "max_profit = df[df['Profit/Losses']==df['Profit/Losses'].max()].to_dict()\n",
    "min_profit = df[df['Profit/Losses']==df['Profit/Losses'].min()].to_dict()"
   ]
  },
  {
   "cell_type": "code",
   "execution_count": 56,
   "metadata": {},
   "outputs": [
    {
     "name": "stdout",
     "output_type": "stream",
     "text": [
      "Financial Analysis\n",
      "----------------------------\n",
      "Total Months: 86\n",
      "Total: $38,382,578\n",
      "Average  Change: -2315.12\n",
      "Average  Change: $-2315.12\n",
      "Greatest Increase in Profits: Feb-2012 ($1170593)\n",
      "Greatest Decrease in Profits: Sep-2013 ($-1196225)\n"
     ]
    }
   ],
   "source": [
    "print('Financial Analysis')\n",
    "print('----------------------------')\n",
    "print(f\"Total Months: {total_months}\")\n",
    "print(f\"Total: ${total_pl:,d}\")\n",
    "print(f\"Average  Change: {avg_change['Profit/Losses']:.2f}\")\n",
    "print(f\"Average  Change: $-2315.12\")\n",
    "print(f\"Greatest Increase in Profits: {list(max_profit['Date'].values())[0]} (${list(max_profit['Profit/Losses'].values())[0]})\")\n",
    "# print(f\"Greatest Increase in Profits: Feb-2012 ($1926159)\")\n",
    "print(f\"Greatest Decrease in Profits: {list(min_profit['Date'].values())[0]} (${list(min_profit['Profit/Losses'].values())[0]})\")\n",
    "# print(f\"Greatest Decrease in Profits: Sep-2013 ($-2196167)\")"
   ]
  },
  {
   "cell_type": "code",
   "execution_count": 8,
   "metadata": {},
   "outputs": [],
   "source": [
    "#Write Data to file\n",
    "with open(\"PyBank.txt\", mode=\"w\") as results:\n",
    "    results.write('Financial Analysis\\n')\n",
    "    results.write('----------------------------\\n')\n",
    "    results.write(f\"Total Months: {total_months}\\n\")\n",
    "    results.write(f\"Total: ${total_pl:,d}\\n\")\n",
    "    results.write(f\"Average  Change: {avg_change['Profit/Losses']:.2f}\\n\")\n",
    "    results.write(f\"Greatest Increase in Profits: {list(max_profit['Date'].values())[0]} (${list(max_profit['Profit/Losses'].values())[0]})\\n\")\n",
    "    results.write(f\"Greatest Decrease in Profits: {list(min_profit['Date'].values())[0]} (${list(min_profit['Profit/Losses'].values())[0]})\\n\")\n"
   ]
  },
  {
   "cell_type": "code",
   "execution_count": null,
   "metadata": {},
   "outputs": [],
   "source": []
  }
 ],
 "metadata": {
  "kernelspec": {
   "display_name": "Python 3",
   "language": "python",
   "name": "python3"
  },
  "language_info": {
   "codemirror_mode": {
    "name": "ipython",
    "version": 3
   },
   "file_extension": ".py",
   "mimetype": "text/x-python",
   "name": "python",
   "nbconvert_exporter": "python",
   "pygments_lexer": "ipython3",
   "version": "3.7.3"
  }
 },
 "nbformat": 4,
 "nbformat_minor": 4
}
